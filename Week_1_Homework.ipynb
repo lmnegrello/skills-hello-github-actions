{
  "cells": [
    {
      "cell_type": "markdown",
      "metadata": {
        "id": "view-in-github",
        "colab_type": "text"
      },
      "source": [
        "<a href=\"https://colab.research.google.com/github/lmnegrello/skills-hello-github-actions/blob/main/Week_1_Homework.ipynb\" target=\"_parent\"><img src=\"https://colab.research.google.com/assets/colab-badge.svg\" alt=\"Open In Colab\"/></a>"
      ]
    },
    {
      "cell_type": "markdown",
      "metadata": {
        "id": "esPHtBi5Jl4I"
      },
      "source": [
        " ### Student Name\n",
        "\n",
        "Please add your name to this markdown cell."
      ]
    },
    {
      "cell_type": "markdown",
      "metadata": {
        "id": "ShzFsyC7Jl4K"
      },
      "source": [
        "## Submitting your homework!\n",
        "\n",
        "Two steps are required for this week's homework once you have completed it:\n",
        "\n",
        "- __Share__ this notebook with _libraryjuicepresspython@gmail.com_ so it can be marked in Colab\n",
        "- __Print as PDF__ and upload to the the week's homework submission location on the Library Juice Academy LMS"
      ]
    },
    {
      "cell_type": "markdown",
      "metadata": {
        "id": "skjxe2pNJl4K"
      },
      "source": [
        "# Python for Librarians - Week 1 Homework\n",
        "\n",
        "\n",
        "\n",
        "## Welcome to Python\n",
        "\n",
        "\n",
        "Be sure to enable line numbers by looking for the 'gear' icon and checking the box in the 'Editor' panel.\n",
        "Be sure to save a copy of this notebook to your drive in the 'File' menu.\n",
        "\n",
        "We are going to be doing a mini data-analysis on some made up marks for a fictional student."
      ]
    },
    {
      "cell_type": "markdown",
      "metadata": {
        "id": "84b-a6vaJl4L"
      },
      "source": [
        "### Q1\n",
        "\n",
        "Create a list variable in the following cell called `marks` that contains the following marks that a student got during a pretend semester of classes:\n",
        "\n",
        "- 80\n",
        "- 75\n",
        "- 85\n",
        "- 70\n",
        "- 60\n",
        "\n",
        "These marks should be represented as `real` values in the list. So that means each value should have a decimal point in it."
      ]
    },
    {
      "cell_type": "code",
      "execution_count": 24,
      "metadata": {
        "id": "dpOE1NSHJl4L"
      },
      "outputs": [],
      "source": [
        "marks = [80, 75 ,85 ,70 ,60 ]"
      ]
    },
    {
      "cell_type": "markdown",
      "metadata": {
        "id": "ZgS87sE4Jl4M"
      },
      "source": [
        "### Q2\n",
        "\n",
        "Complete the code in the following cell to find the average (or mean) of our `marks` list by completing all of the details of the loop. You can answer with a `real` number that is the `%` out of 100\n",
        "\n",
        "Bonus: there is function called `len()` that will tell you how long a list variable is. if you can, try to use this in your answer. The next cell uses this as on an example."
      ]
    },
    {
      "cell_type": "code",
      "execution_count": 25,
      "metadata": {
        "id": "ys0bRI3_Jl4M",
        "outputId": "a5e4e05a-fab9-4698-e237-ac968224ecd3",
        "colab": {
          "base_uri": "https://localhost:8080/"
        }
      },
      "outputs": [
        {
          "output_type": "stream",
          "name": "stdout",
          "text": [
            "3\n"
          ]
        }
      ],
      "source": [
        "#example of len()\n",
        "eg = [1, 2, 3]\n",
        "\n",
        "print(len(eg))"
      ]
    },
    {
      "cell_type": "code",
      "execution_count": 27,
      "metadata": {
        "colab": {
          "base_uri": "https://localhost:8080/"
        },
        "id": "IrZYlH2QJl4M",
        "outputId": "ce79eb9d-3e4a-4649-cb8e-d793b2bb0819"
      },
      "outputs": [
        {
          "output_type": "stream",
          "name": "stdout",
          "text": [
            "Average is:  74.0\n"
          ]
        }
      ],
      "source": [
        "marks = [80,75,85,70,60]\n",
        "total = 0.0\n",
        "\n",
        "#this loop will go through all of the items in the marks list\n",
        "for mark in marks:\n",
        "    total = total + mark\n",
        "\n",
        "average = total / len(marks)\n",
        "\n",
        "\n",
        "print(\"Average is: \", average)\n",
        "\n"
      ]
    },
    {
      "cell_type": "markdown",
      "metadata": {
        "id": "ExMCVBm7Jl4M"
      },
      "source": [
        "### Q3\n",
        "\n",
        "We are writing a feedback script that loops through `marks`\n",
        "\n",
        "- Modify the following code to print to the screen `Good Job` if a mark is equal to or above above 80.\n"
      ]
    },
    {
      "cell_type": "code",
      "execution_count": null,
      "metadata": {
        "id": "qnc4KkM2Jl4N"
      },
      "outputs": [],
      "source": [
        "\n",
        "for in marks:\n",
        "    if :\n",
        "        print(\"Good Job\")\n"
      ]
    },
    {
      "cell_type": "markdown",
      "metadata": {
        "id": "v16ZMEZTJl4N"
      },
      "source": [
        "### Q4\n",
        "\n",
        "Let's extend our feedback script a bit.\n",
        "\n",
        "- Modify it so that it prints `Good Job` if a mark is equal to or above 80\n",
        "- and it prints `Better Luck Next Time` if the mark is lower than 80."
      ]
    },
    {
      "cell_type": "code",
      "execution_count": null,
      "metadata": {
        "id": "6y9SBG7DJl4N"
      },
      "outputs": [],
      "source": [
        "for in marks:\n",
        "    if :\n",
        "        print(\"Good Job\")\n"
      ]
    },
    {
      "cell_type": "markdown",
      "metadata": {
        "id": "A5CsoOn1Jl4N"
      },
      "source": [
        "### Q5\n",
        "\n",
        "Let's extend our feedback script some more.\n",
        "\n",
        "- Modify it so that it prints `Good Job` if a mark is equal to or above 80\n",
        "- and it prints `Better Luck Next Time` if the mark is lower than 80 and higher than 60.\n",
        "- and it prints `Please see me after class` if the mark is 60 or lower"
      ]
    },
    {
      "cell_type": "code",
      "execution_count": null,
      "metadata": {
        "id": "7F6MGq8cJl4N"
      },
      "outputs": [],
      "source": [
        "for in marks:\n",
        "    if :\n",
        "        print(\"Good Job\")"
      ]
    },
    {
      "cell_type": "markdown",
      "metadata": {
        "id": "5Mgre0W0Jl4N"
      },
      "source": [
        "### Q6\n",
        "\n",
        "In our discussion of conditionals we discovered that if we want to compare if two things are the same we use the `==` operator. In the markdown cell belows please explain why we need to use `==` instead of `=`"
      ]
    },
    {
      "cell_type": "markdown",
      "metadata": {
        "id": "A24cVc1hJl4N"
      },
      "source": [
        "We use the == operator instead because ..."
      ]
    },
    {
      "cell_type": "markdown",
      "metadata": {
        "id": "yVHXds7dJl4N"
      },
      "source": [
        "### Q7\n",
        "\n",
        "Let's make our list of `marks` into dictionary called `semester` so we can add more details to it. Run the following cell to do this."
      ]
    },
    {
      "cell_type": "code",
      "execution_count": null,
      "metadata": {
        "id": "AW2_gQGeJl4O"
      },
      "outputs": [],
      "source": [
        "\n",
        "semester = {\n",
        "    'Calculus':80.0,\n",
        "    'Algebra':75.0,\n",
        "    'Stats': 85.0,\n",
        "    'History':70.0,\n",
        "    'English':60.0\n",
        "}\n",
        "\n",
        "print(\"Marks:\")\n",
        "for mark in semester.values():\n",
        "    print(mark)\n",
        "\n",
        "print(\"\")\n",
        "print(\"Class Names:\")\n",
        "for name in semester.keys():\n",
        "    print(name)"
      ]
    },
    {
      "cell_type": "markdown",
      "metadata": {
        "id": "9Z2HYgHlJl4O"
      },
      "source": [
        "\n",
        "Let's modify our print out of information so that the marks match up with the class name. So that it looks like the following:\n",
        "\n",
        "`Calculus -> 80,0`\n",
        "\n",
        "\n",
        "We need to use the `[]` notation to get the `course_mark` by looking it up in the dictionary. You need to modify line 1, 2 & 3. Check out _Question 14_ in the _Workalong Notebook_ if you need more help."
      ]
    },
    {
      "cell_type": "code",
      "execution_count": null,
      "metadata": {
        "scrolled": true,
        "id": "5URV4a_rJl4O"
      },
      "outputs": [],
      "source": [
        "for  in semester:\n",
        "    course_mark = semester[]\n",
        "    print(, \" -> \", course_mark)\n",
        ""
      ]
    },
    {
      "cell_type": "markdown",
      "metadata": {
        "id": "WtoPRspFJl4O"
      },
      "source": [
        "### Q8\n",
        "\n",
        "As the theme of this class is an introduction to analysis of data, in the cell below reflect on the marks that the student received. What can you say about this student?"
      ]
    },
    {
      "cell_type": "markdown",
      "metadata": {
        "id": "6QVt4TOsJl4O"
      },
      "source": [
        "My impression of this student is..."
      ]
    },
    {
      "cell_type": "markdown",
      "metadata": {
        "id": "6fHCwQzqJl4O"
      },
      "source": [
        "\n",
        "\n",
        "## Congrats!\n",
        "\n",
        "You've completed your first assignment for the class. Please 'Print' as a PDF and upload it to the Library Juice Academy LMS.\n",
        "\n",
        "Also click the **Share** button above and enter `libraryjuicepresspython@gmail.com` so this can be marked in Colab.\n",
        "\n",
        "Remember also to make your forum post."
      ]
    }
  ],
  "metadata": {
    "kernelspec": {
      "display_name": "Python 3 (ipykernel)",
      "language": "python",
      "name": "python3"
    },
    "language_info": {
      "codemirror_mode": {
        "name": "ipython",
        "version": 3
      },
      "file_extension": ".py",
      "mimetype": "text/x-python",
      "name": "python",
      "nbconvert_exporter": "python",
      "pygments_lexer": "ipython3",
      "version": "3.11.5"
    },
    "colab": {
      "provenance": [],
      "include_colab_link": true
    }
  },
  "nbformat": 4,
  "nbformat_minor": 0
}