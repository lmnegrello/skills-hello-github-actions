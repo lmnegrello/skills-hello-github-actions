{
  "cells": [
    {
      "cell_type": "markdown",
      "metadata": {
        "id": "view-in-github",
        "colab_type": "text"
      },
      "source": [
        "<a href=\"https://colab.research.google.com/github/lmnegrello/skills-hello-github-actions/blob/main/Week_2_Homework.ipynb\" target=\"_parent\"><img src=\"https://colab.research.google.com/assets/colab-badge.svg\" alt=\"Open In Colab\"/></a>"
      ]
    },
    {
      "cell_type": "markdown",
      "metadata": {
        "id": "h9IjYJcXozOm"
      },
      "source": [
        " ### Student Name\n",
        "\n",
        "Please add your name to this markdown cell."
      ]
    },
    {
      "cell_type": "markdown",
      "metadata": {
        "id": "2IllM1cFozOp"
      },
      "source": [
        "## Submitting your homework!\n",
        "\n",
        "Three steps are required for this week's homework once you have completed it:\n",
        "\n",
        "- __Share__ this notebook with _libraryjuicepresspython@gmail.com_ so it can be marked in Colab\n",
        "- __Print as PDF__ and upload to the the week's homework submission location on the Library Juice Academy LMS\n",
        "- __Post__ to the Week 2 Forum"
      ]
    },
    {
      "cell_type": "markdown",
      "metadata": {
        "id": "N4Upb_RIozOq"
      },
      "source": [
        "# Python for Librarians - Week 2 Homework\n",
        "\n",
        "## Examing a dataset with Pandas\n",
        "\n",
        "A data set has been created for you. It comprises about **5000** items found using the [Cross-Ref Search API](https://www.crossref.org/education/retrieve-metadata/rest-api/). This data is information about DOIs registered with Cross-Ref during the month of January 2020 that match the search `information literacy`. We are going to use our Pandas skills to perform a basic analysis of the data. Check out the first few paragraphs of the DOI [entry](https://en.wikipedia.org/wiki/Digital_object_identifier) on Wikipedia if you haven't heard of A DOI before or if you need a refresher about what it is and how it is structured."
      ]
    },
    {
      "cell_type": "code",
      "execution_count": 1,
      "metadata": {
        "id": "JxOq-iLWozOq"
      },
      "outputs": [],
      "source": [
        "#Load in our Libraries\n",
        "import pandas as pd\n",
        "\n",
        "#We'll use numPy to blank out the redundant info in our correlation matrix later, so we import it here\n",
        "import numpy as np\n",
        "\n",
        "#Suppress the distracting warnings\n",
        "import warnings\n",
        "warnings.filterwarnings(\"ignore\", category=DeprecationWarning)\n",
        "warnings.filterwarnings(\"ignore\", category=FutureWarning)"
      ]
    },
    {
      "cell_type": "code",
      "execution_count": 2,
      "metadata": {
        "id": "I4TT_KCxozOr"
      },
      "outputs": [],
      "source": [
        "#Load our dataset from the CSV file\n",
        "doi_data = pd.read_csv(\"https://raw.githubusercontent.com/elibtronic/lja_datasets/master/week_2_homework_doi.csv\")\n",
        "\n",
        "#We'll set the column names manually so they will be what we expect them to be\n",
        "doi_data.columns = ['DOI','Prefix','ISSN','Type','Publisher','Title','Date','Reference-count','Alt title','Score']"
      ]
    },
    {
      "cell_type": "code",
      "execution_count": 5,
      "metadata": {
        "id": "6pGqcx5FozOr",
        "outputId": "522a7423-f8b4-493c-8c72-c0bfe8ee61e3",
        "colab": {
          "base_uri": "https://localhost:8080/",
          "height": 310
        }
      },
      "outputs": [
        {
          "output_type": "execute_result",
          "data": {
            "text/plain": [
              "                                    DOI    Prefix       ISSN             Type  \\\n",
              "3670           10.1177/1086296x19896496  10.11770  1086-296X  journal-article   \n",
              "1813       10.1007/978-3-030-38724-2_24  10.10070  1865-1348     book-chapter   \n",
              "1939             10.4414/bms.2020.18603  10.44140  1424-4012  journal-article   \n",
              "1841  10.31733/2078-3566-2019-5-207-212  10.31733  2078-3566  journal-article   \n",
              "4371         10.1007/s11292-019-09407-9  10.10070  1573-3750  journal-article   \n",
              "\n",
              "                                              Publisher  \\\n",
              "3670                                  SAGE Publications   \n",
              "1813                  Springer International Publishing   \n",
              "1939                 EMH Swiss Medical Publishers, Ltd.   \n",
              "1841  The Dnipropetrovsk State University of Interna...   \n",
              "4371            Springer Science and Business Media LLC   \n",
              "\n",
              "                                                  Title       Date  \\\n",
              "3670                       Journal of Literacy Research  2020/2/11   \n",
              "1813                          Exploring Service Science  2020/1/27   \n",
              "1939                      Bulletin des Médecins Suisses  2020/1/29   \n",
              "1841  Naukovyy Visnyk Dnipropetrovs'kogo Derzhavnogo...  2020/1/27   \n",
              "4371                Journal of Experimental Criminology  2021/1/29   \n",
              "\n",
              "      Reference-count                                          Alt title  \\\n",
              "3670               38  Writing Beyond “the Four Corners”: Adolescent ...   \n",
              "1813               43  Ten Years Exploring Service Science: Looking B...   \n",
              "1939                0         Information sur le partenaire deproduction   \n",
              "1841                0  Victor Pletenets.  The possibilities of inform...   \n",
              "4371               57  Specifying the information effect: reference p...   \n",
              "\n",
              "         Score  \n",
              "3670  8.182314  \n",
              "1813  3.054477  \n",
              "1939  4.898695  \n",
              "1841  3.824028  \n",
              "4371  3.824028  "
            ],
            "text/html": [
              "\n",
              "  <div id=\"df-7ae25eb8-887b-4885-aa78-74ce7d6d90e1\" class=\"colab-df-container\">\n",
              "    <div>\n",
              "<style scoped>\n",
              "    .dataframe tbody tr th:only-of-type {\n",
              "        vertical-align: middle;\n",
              "    }\n",
              "\n",
              "    .dataframe tbody tr th {\n",
              "        vertical-align: top;\n",
              "    }\n",
              "\n",
              "    .dataframe thead th {\n",
              "        text-align: right;\n",
              "    }\n",
              "</style>\n",
              "<table border=\"1\" class=\"dataframe\">\n",
              "  <thead>\n",
              "    <tr style=\"text-align: right;\">\n",
              "      <th></th>\n",
              "      <th>DOI</th>\n",
              "      <th>Prefix</th>\n",
              "      <th>ISSN</th>\n",
              "      <th>Type</th>\n",
              "      <th>Publisher</th>\n",
              "      <th>Title</th>\n",
              "      <th>Date</th>\n",
              "      <th>Reference-count</th>\n",
              "      <th>Alt title</th>\n",
              "      <th>Score</th>\n",
              "    </tr>\n",
              "  </thead>\n",
              "  <tbody>\n",
              "    <tr>\n",
              "      <th>3670</th>\n",
              "      <td>10.1177/1086296x19896496</td>\n",
              "      <td>10.11770</td>\n",
              "      <td>1086-296X</td>\n",
              "      <td>journal-article</td>\n",
              "      <td>SAGE Publications</td>\n",
              "      <td>Journal of Literacy Research</td>\n",
              "      <td>2020/2/11</td>\n",
              "      <td>38</td>\n",
              "      <td>Writing Beyond “the Four Corners”: Adolescent ...</td>\n",
              "      <td>8.182314</td>\n",
              "    </tr>\n",
              "    <tr>\n",
              "      <th>1813</th>\n",
              "      <td>10.1007/978-3-030-38724-2_24</td>\n",
              "      <td>10.10070</td>\n",
              "      <td>1865-1348</td>\n",
              "      <td>book-chapter</td>\n",
              "      <td>Springer International Publishing</td>\n",
              "      <td>Exploring Service Science</td>\n",
              "      <td>2020/1/27</td>\n",
              "      <td>43</td>\n",
              "      <td>Ten Years Exploring Service Science: Looking B...</td>\n",
              "      <td>3.054477</td>\n",
              "    </tr>\n",
              "    <tr>\n",
              "      <th>1939</th>\n",
              "      <td>10.4414/bms.2020.18603</td>\n",
              "      <td>10.44140</td>\n",
              "      <td>1424-4012</td>\n",
              "      <td>journal-article</td>\n",
              "      <td>EMH Swiss Medical Publishers, Ltd.</td>\n",
              "      <td>Bulletin des Médecins Suisses</td>\n",
              "      <td>2020/1/29</td>\n",
              "      <td>0</td>\n",
              "      <td>Information sur le partenaire deproduction</td>\n",
              "      <td>4.898695</td>\n",
              "    </tr>\n",
              "    <tr>\n",
              "      <th>1841</th>\n",
              "      <td>10.31733/2078-3566-2019-5-207-212</td>\n",
              "      <td>10.31733</td>\n",
              "      <td>2078-3566</td>\n",
              "      <td>journal-article</td>\n",
              "      <td>The Dnipropetrovsk State University of Interna...</td>\n",
              "      <td>Naukovyy Visnyk Dnipropetrovs'kogo Derzhavnogo...</td>\n",
              "      <td>2020/1/27</td>\n",
              "      <td>0</td>\n",
              "      <td>Victor Pletenets.  The possibilities of inform...</td>\n",
              "      <td>3.824028</td>\n",
              "    </tr>\n",
              "    <tr>\n",
              "      <th>4371</th>\n",
              "      <td>10.1007/s11292-019-09407-9</td>\n",
              "      <td>10.10070</td>\n",
              "      <td>1573-3750</td>\n",
              "      <td>journal-article</td>\n",
              "      <td>Springer Science and Business Media LLC</td>\n",
              "      <td>Journal of Experimental Criminology</td>\n",
              "      <td>2021/1/29</td>\n",
              "      <td>57</td>\n",
              "      <td>Specifying the information effect: reference p...</td>\n",
              "      <td>3.824028</td>\n",
              "    </tr>\n",
              "  </tbody>\n",
              "</table>\n",
              "</div>\n",
              "    <div class=\"colab-df-buttons\">\n",
              "\n",
              "  <div class=\"colab-df-container\">\n",
              "    <button class=\"colab-df-convert\" onclick=\"convertToInteractive('df-7ae25eb8-887b-4885-aa78-74ce7d6d90e1')\"\n",
              "            title=\"Convert this dataframe to an interactive table.\"\n",
              "            style=\"display:none;\">\n",
              "\n",
              "  <svg xmlns=\"http://www.w3.org/2000/svg\" height=\"24px\" viewBox=\"0 -960 960 960\">\n",
              "    <path d=\"M120-120v-720h720v720H120Zm60-500h600v-160H180v160Zm220 220h160v-160H400v160Zm0 220h160v-160H400v160ZM180-400h160v-160H180v160Zm440 0h160v-160H620v160ZM180-180h160v-160H180v160Zm440 0h160v-160H620v160Z\"/>\n",
              "  </svg>\n",
              "    </button>\n",
              "\n",
              "  <style>\n",
              "    .colab-df-container {\n",
              "      display:flex;\n",
              "      gap: 12px;\n",
              "    }\n",
              "\n",
              "    .colab-df-convert {\n",
              "      background-color: #E8F0FE;\n",
              "      border: none;\n",
              "      border-radius: 50%;\n",
              "      cursor: pointer;\n",
              "      display: none;\n",
              "      fill: #1967D2;\n",
              "      height: 32px;\n",
              "      padding: 0 0 0 0;\n",
              "      width: 32px;\n",
              "    }\n",
              "\n",
              "    .colab-df-convert:hover {\n",
              "      background-color: #E2EBFA;\n",
              "      box-shadow: 0px 1px 2px rgba(60, 64, 67, 0.3), 0px 1px 3px 1px rgba(60, 64, 67, 0.15);\n",
              "      fill: #174EA6;\n",
              "    }\n",
              "\n",
              "    .colab-df-buttons div {\n",
              "      margin-bottom: 4px;\n",
              "    }\n",
              "\n",
              "    [theme=dark] .colab-df-convert {\n",
              "      background-color: #3B4455;\n",
              "      fill: #D2E3FC;\n",
              "    }\n",
              "\n",
              "    [theme=dark] .colab-df-convert:hover {\n",
              "      background-color: #434B5C;\n",
              "      box-shadow: 0px 1px 3px 1px rgba(0, 0, 0, 0.15);\n",
              "      filter: drop-shadow(0px 1px 2px rgba(0, 0, 0, 0.3));\n",
              "      fill: #FFFFFF;\n",
              "    }\n",
              "  </style>\n",
              "\n",
              "    <script>\n",
              "      const buttonEl =\n",
              "        document.querySelector('#df-7ae25eb8-887b-4885-aa78-74ce7d6d90e1 button.colab-df-convert');\n",
              "      buttonEl.style.display =\n",
              "        google.colab.kernel.accessAllowed ? 'block' : 'none';\n",
              "\n",
              "      async function convertToInteractive(key) {\n",
              "        const element = document.querySelector('#df-7ae25eb8-887b-4885-aa78-74ce7d6d90e1');\n",
              "        const dataTable =\n",
              "          await google.colab.kernel.invokeFunction('convertToInteractive',\n",
              "                                                    [key], {});\n",
              "        if (!dataTable) return;\n",
              "\n",
              "        const docLinkHtml = 'Like what you see? Visit the ' +\n",
              "          '<a target=\"_blank\" href=https://colab.research.google.com/notebooks/data_table.ipynb>data table notebook</a>'\n",
              "          + ' to learn more about interactive tables.';\n",
              "        element.innerHTML = '';\n",
              "        dataTable['output_type'] = 'display_data';\n",
              "        await google.colab.output.renderOutput(dataTable, element);\n",
              "        const docLink = document.createElement('div');\n",
              "        docLink.innerHTML = docLinkHtml;\n",
              "        element.appendChild(docLink);\n",
              "      }\n",
              "    </script>\n",
              "  </div>\n",
              "\n",
              "\n",
              "    <div id=\"df-2dd5cc04-9a69-4040-952b-3cf2d03ea61a\">\n",
              "      <button class=\"colab-df-quickchart\" onclick=\"quickchart('df-2dd5cc04-9a69-4040-952b-3cf2d03ea61a')\"\n",
              "                title=\"Suggest charts\"\n",
              "                style=\"display:none;\">\n",
              "\n",
              "<svg xmlns=\"http://www.w3.org/2000/svg\" height=\"24px\"viewBox=\"0 0 24 24\"\n",
              "     width=\"24px\">\n",
              "    <g>\n",
              "        <path d=\"M19 3H5c-1.1 0-2 .9-2 2v14c0 1.1.9 2 2 2h14c1.1 0 2-.9 2-2V5c0-1.1-.9-2-2-2zM9 17H7v-7h2v7zm4 0h-2V7h2v10zm4 0h-2v-4h2v4z\"/>\n",
              "    </g>\n",
              "</svg>\n",
              "      </button>\n",
              "\n",
              "<style>\n",
              "  .colab-df-quickchart {\n",
              "      --bg-color: #E8F0FE;\n",
              "      --fill-color: #1967D2;\n",
              "      --hover-bg-color: #E2EBFA;\n",
              "      --hover-fill-color: #174EA6;\n",
              "      --disabled-fill-color: #AAA;\n",
              "      --disabled-bg-color: #DDD;\n",
              "  }\n",
              "\n",
              "  [theme=dark] .colab-df-quickchart {\n",
              "      --bg-color: #3B4455;\n",
              "      --fill-color: #D2E3FC;\n",
              "      --hover-bg-color: #434B5C;\n",
              "      --hover-fill-color: #FFFFFF;\n",
              "      --disabled-bg-color: #3B4455;\n",
              "      --disabled-fill-color: #666;\n",
              "  }\n",
              "\n",
              "  .colab-df-quickchart {\n",
              "    background-color: var(--bg-color);\n",
              "    border: none;\n",
              "    border-radius: 50%;\n",
              "    cursor: pointer;\n",
              "    display: none;\n",
              "    fill: var(--fill-color);\n",
              "    height: 32px;\n",
              "    padding: 0;\n",
              "    width: 32px;\n",
              "  }\n",
              "\n",
              "  .colab-df-quickchart:hover {\n",
              "    background-color: var(--hover-bg-color);\n",
              "    box-shadow: 0 1px 2px rgba(60, 64, 67, 0.3), 0 1px 3px 1px rgba(60, 64, 67, 0.15);\n",
              "    fill: var(--button-hover-fill-color);\n",
              "  }\n",
              "\n",
              "  .colab-df-quickchart-complete:disabled,\n",
              "  .colab-df-quickchart-complete:disabled:hover {\n",
              "    background-color: var(--disabled-bg-color);\n",
              "    fill: var(--disabled-fill-color);\n",
              "    box-shadow: none;\n",
              "  }\n",
              "\n",
              "  .colab-df-spinner {\n",
              "    border: 2px solid var(--fill-color);\n",
              "    border-color: transparent;\n",
              "    border-bottom-color: var(--fill-color);\n",
              "    animation:\n",
              "      spin 1s steps(1) infinite;\n",
              "  }\n",
              "\n",
              "  @keyframes spin {\n",
              "    0% {\n",
              "      border-color: transparent;\n",
              "      border-bottom-color: var(--fill-color);\n",
              "      border-left-color: var(--fill-color);\n",
              "    }\n",
              "    20% {\n",
              "      border-color: transparent;\n",
              "      border-left-color: var(--fill-color);\n",
              "      border-top-color: var(--fill-color);\n",
              "    }\n",
              "    30% {\n",
              "      border-color: transparent;\n",
              "      border-left-color: var(--fill-color);\n",
              "      border-top-color: var(--fill-color);\n",
              "      border-right-color: var(--fill-color);\n",
              "    }\n",
              "    40% {\n",
              "      border-color: transparent;\n",
              "      border-right-color: var(--fill-color);\n",
              "      border-top-color: var(--fill-color);\n",
              "    }\n",
              "    60% {\n",
              "      border-color: transparent;\n",
              "      border-right-color: var(--fill-color);\n",
              "    }\n",
              "    80% {\n",
              "      border-color: transparent;\n",
              "      border-right-color: var(--fill-color);\n",
              "      border-bottom-color: var(--fill-color);\n",
              "    }\n",
              "    90% {\n",
              "      border-color: transparent;\n",
              "      border-bottom-color: var(--fill-color);\n",
              "    }\n",
              "  }\n",
              "</style>\n",
              "\n",
              "      <script>\n",
              "        async function quickchart(key) {\n",
              "          const quickchartButtonEl =\n",
              "            document.querySelector('#' + key + ' button');\n",
              "          quickchartButtonEl.disabled = true;  // To prevent multiple clicks.\n",
              "          quickchartButtonEl.classList.add('colab-df-spinner');\n",
              "          try {\n",
              "            const charts = await google.colab.kernel.invokeFunction(\n",
              "                'suggestCharts', [key], {});\n",
              "          } catch (error) {\n",
              "            console.error('Error during call to suggestCharts:', error);\n",
              "          }\n",
              "          quickchartButtonEl.classList.remove('colab-df-spinner');\n",
              "          quickchartButtonEl.classList.add('colab-df-quickchart-complete');\n",
              "        }\n",
              "        (() => {\n",
              "          let quickchartButtonEl =\n",
              "            document.querySelector('#df-2dd5cc04-9a69-4040-952b-3cf2d03ea61a button');\n",
              "          quickchartButtonEl.style.display =\n",
              "            google.colab.kernel.accessAllowed ? 'block' : 'none';\n",
              "        })();\n",
              "      </script>\n",
              "    </div>\n",
              "\n",
              "    </div>\n",
              "  </div>\n"
            ],
            "application/vnd.google.colaboratory.intrinsic+json": {
              "type": "dataframe",
              "repr_error": "0"
            }
          },
          "metadata": {},
          "execution_count": 5
        }
      ],
      "source": [
        "#Display 5 random entries in our df. In the workalong we've been using head instea of sample.\n",
        "#Try running this cell a few times to see different samples of the data\n",
        "doi_data.sample(5)"
      ]
    },
    {
      "cell_type": "markdown",
      "metadata": {
        "id": "Y-XIyeUKozOr"
      },
      "source": [
        "## Columns in the Data\n",
        "\n",
        "- DOI: The full DOI of the item\n",
        "- Prefix: The publisher DOI prefix (more info)\n",
        "- ISSN: The ISSN of the publication\n",
        "- Type: What kind of item this eg. journal article, book chapter etc\n",
        "- Publisher: Name of the publisher\n",
        "- Title: Title of the journal/conference proceeding\n",
        "- Date: Date item was added to cross-ref index\n",
        "- Reference-count: How many references this article has\n",
        "- Alt title: An alternate title to the item\n",
        "- Score: The Cross-Ref _score_ for the item\n",
        "\n",
        "\n",
        "Try to write some lines of code that answer the following questions in the cells below. Remember, there are multiple different ways to get the answers to these questions. Just stick with what works the best for you."
      ]
    },
    {
      "cell_type": "markdown",
      "metadata": {
        "id": "az605q18ozOs"
      },
      "source": [
        "### Q1\n",
        "What are the different **Types** of items in this dataset?"
      ]
    },
    {
      "cell_type": "code",
      "execution_count": 14,
      "metadata": {
        "id": "0Qgim9kgozOs",
        "outputId": "0702eb8c-e61e-4f12-aa0c-3a69f6e35b93",
        "colab": {
          "base_uri": "https://localhost:8080/",
          "height": 53
        }
      },
      "outputs": [
        {
          "output_type": "execute_result",
          "data": {
            "text/plain": [
              "Empty DataFrame\n",
              "Columns: [DOI, Prefix, ISSN, Type, Publisher, Title, Date, Reference-count, Alt title, Score]\n",
              "Index: []"
            ],
            "text/html": [
              "\n",
              "  <div id=\"df-a8d29fe9-d796-4f2a-89a1-283f7ad0fb30\" class=\"colab-df-container\">\n",
              "    <div>\n",
              "<style scoped>\n",
              "    .dataframe tbody tr th:only-of-type {\n",
              "        vertical-align: middle;\n",
              "    }\n",
              "\n",
              "    .dataframe tbody tr th {\n",
              "        vertical-align: top;\n",
              "    }\n",
              "\n",
              "    .dataframe thead th {\n",
              "        text-align: right;\n",
              "    }\n",
              "</style>\n",
              "<table border=\"1\" class=\"dataframe\">\n",
              "  <thead>\n",
              "    <tr style=\"text-align: right;\">\n",
              "      <th></th>\n",
              "      <th>DOI</th>\n",
              "      <th>Prefix</th>\n",
              "      <th>ISSN</th>\n",
              "      <th>Type</th>\n",
              "      <th>Publisher</th>\n",
              "      <th>Title</th>\n",
              "      <th>Date</th>\n",
              "      <th>Reference-count</th>\n",
              "      <th>Alt title</th>\n",
              "      <th>Score</th>\n",
              "    </tr>\n",
              "  </thead>\n",
              "  <tbody>\n",
              "  </tbody>\n",
              "</table>\n",
              "</div>\n",
              "    <div class=\"colab-df-buttons\">\n",
              "\n",
              "  <div class=\"colab-df-container\">\n",
              "    <button class=\"colab-df-convert\" onclick=\"convertToInteractive('df-a8d29fe9-d796-4f2a-89a1-283f7ad0fb30')\"\n",
              "            title=\"Convert this dataframe to an interactive table.\"\n",
              "            style=\"display:none;\">\n",
              "\n",
              "  <svg xmlns=\"http://www.w3.org/2000/svg\" height=\"24px\" viewBox=\"0 -960 960 960\">\n",
              "    <path d=\"M120-120v-720h720v720H120Zm60-500h600v-160H180v160Zm220 220h160v-160H400v160Zm0 220h160v-160H400v160ZM180-400h160v-160H180v160Zm440 0h160v-160H620v160ZM180-180h160v-160H180v160Zm440 0h160v-160H620v160Z\"/>\n",
              "  </svg>\n",
              "    </button>\n",
              "\n",
              "  <style>\n",
              "    .colab-df-container {\n",
              "      display:flex;\n",
              "      gap: 12px;\n",
              "    }\n",
              "\n",
              "    .colab-df-convert {\n",
              "      background-color: #E8F0FE;\n",
              "      border: none;\n",
              "      border-radius: 50%;\n",
              "      cursor: pointer;\n",
              "      display: none;\n",
              "      fill: #1967D2;\n",
              "      height: 32px;\n",
              "      padding: 0 0 0 0;\n",
              "      width: 32px;\n",
              "    }\n",
              "\n",
              "    .colab-df-convert:hover {\n",
              "      background-color: #E2EBFA;\n",
              "      box-shadow: 0px 1px 2px rgba(60, 64, 67, 0.3), 0px 1px 3px 1px rgba(60, 64, 67, 0.15);\n",
              "      fill: #174EA6;\n",
              "    }\n",
              "\n",
              "    .colab-df-buttons div {\n",
              "      margin-bottom: 4px;\n",
              "    }\n",
              "\n",
              "    [theme=dark] .colab-df-convert {\n",
              "      background-color: #3B4455;\n",
              "      fill: #D2E3FC;\n",
              "    }\n",
              "\n",
              "    [theme=dark] .colab-df-convert:hover {\n",
              "      background-color: #434B5C;\n",
              "      box-shadow: 0px 1px 3px 1px rgba(0, 0, 0, 0.15);\n",
              "      filter: drop-shadow(0px 1px 2px rgba(0, 0, 0, 0.3));\n",
              "      fill: #FFFFFF;\n",
              "    }\n",
              "  </style>\n",
              "\n",
              "    <script>\n",
              "      const buttonEl =\n",
              "        document.querySelector('#df-a8d29fe9-d796-4f2a-89a1-283f7ad0fb30 button.colab-df-convert');\n",
              "      buttonEl.style.display =\n",
              "        google.colab.kernel.accessAllowed ? 'block' : 'none';\n",
              "\n",
              "      async function convertToInteractive(key) {\n",
              "        const element = document.querySelector('#df-a8d29fe9-d796-4f2a-89a1-283f7ad0fb30');\n",
              "        const dataTable =\n",
              "          await google.colab.kernel.invokeFunction('convertToInteractive',\n",
              "                                                    [key], {});\n",
              "        if (!dataTable) return;\n",
              "\n",
              "        const docLinkHtml = 'Like what you see? Visit the ' +\n",
              "          '<a target=\"_blank\" href=https://colab.research.google.com/notebooks/data_table.ipynb>data table notebook</a>'\n",
              "          + ' to learn more about interactive tables.';\n",
              "        element.innerHTML = '';\n",
              "        dataTable['output_type'] = 'display_data';\n",
              "        await google.colab.output.renderOutput(dataTable, element);\n",
              "        const docLink = document.createElement('div');\n",
              "        docLink.innerHTML = docLinkHtml;\n",
              "        element.appendChild(docLink);\n",
              "      }\n",
              "    </script>\n",
              "  </div>\n",
              "\n",
              "\n",
              "    </div>\n",
              "  </div>\n"
            ],
            "application/vnd.google.colaboratory.intrinsic+json": {
              "type": "dataframe",
              "variable_name": "doi_data",
              "summary": "{\n  \"name\": \"doi_data\",\n  \"rows\": 4972,\n  \"fields\": [\n    {\n      \"column\": \"DOI\",\n      \"properties\": {\n        \"dtype\": \"string\",\n        \"num_unique_values\": 4972,\n        \"samples\": [\n          \"10.1002/asi.24340\",\n          \"10.34306/csit.v4i1.86\",\n          \"10.1002/jsid.874\"\n        ],\n        \"semantic_type\": \"\",\n        \"description\": \"\"\n      }\n    },\n    {\n      \"column\": \"Prefix\",\n      \"properties\": {\n        \"dtype\": \"number\",\n        \"std\": 0.11448270794136452,\n        \"min\": 10.1002,\n        \"max\": 10.9785,\n        \"num_unique_values\": 387,\n        \"samples\": [\n          10.5191,\n          10.33186,\n          10.32604\n        ],\n        \"semantic_type\": \"\",\n        \"description\": \"\"\n      }\n    },\n    {\n      \"column\": \"ISSN\",\n      \"properties\": {\n        \"dtype\": \"category\",\n        \"num_unique_values\": 1828,\n        \"samples\": [\n          \"1759-2879\",\n          \"2357-5905\",\n          \"2052-0492\"\n        ],\n        \"semantic_type\": \"\",\n        \"description\": \"\"\n      }\n    },\n    {\n      \"column\": \"Type\",\n      \"properties\": {\n        \"dtype\": \"category\",\n        \"num_unique_values\": 10,\n        \"samples\": [\n          \"report\",\n          \"book-chapter\",\n          \"book\"\n        ],\n        \"semantic_type\": \"\",\n        \"description\": \"\"\n      }\n    },\n    {\n      \"column\": \"Publisher\",\n      \"properties\": {\n        \"dtype\": \"category\",\n        \"num_unique_values\": 383,\n        \"samples\": [\n          \"Palgrave Macmillan UK\",\n          \"PEDAGOGIKA Jurnal Ilmu Pendidikan Fakultas Ilmu Pendidikan Universitas Negeri Gorontalo\",\n          \"UK Simulation Society\"\n        ],\n        \"semantic_type\": \"\",\n        \"description\": \"\"\n      }\n    },\n    {\n      \"column\": \"Title\",\n      \"properties\": {\n        \"dtype\": \"category\",\n        \"num_unique_values\": 1935,\n        \"samples\": [\n          \"Orthodontics & Craniofacial Research\",\n          \"Nursing in Critical Care\",\n          \"Atmospheric Science Letters\"\n        ],\n        \"semantic_type\": \"\",\n        \"description\": \"\"\n      }\n    },\n    {\n      \"column\": \"Date\",\n      \"properties\": {\n        \"dtype\": \"object\",\n        \"num_unique_values\": 375,\n        \"samples\": [\n          \"2020/7/4\",\n          \"2020/5/20\",\n          \"2020/1/22\"\n        ],\n        \"semantic_type\": \"\",\n        \"description\": \"\"\n      }\n    },\n    {\n      \"column\": \"Reference-count\",\n      \"properties\": {\n        \"dtype\": \"number\",\n        \"std\": 25,\n        \"min\": 0,\n        \"max\": 321,\n        \"num_unique_values\": 139,\n        \"samples\": [\n          171,\n          95,\n          48\n        ],\n        \"semantic_type\": \"\",\n        \"description\": \"\"\n      }\n    },\n    {\n      \"column\": \"Alt title\",\n      \"properties\": {\n        \"dtype\": \"string\",\n        \"num_unique_values\": 3824,\n        \"samples\": [\n          \"Precise Tuning of the Thickness and Optical Properties of Highly Stable 2D Organometal Halide Perovskite Nanosheets through a Solvothermal Process and Their Applications as a White LED and a Fast Photodetector\",\n          \"Interoperability of CAD geometry and product manufacturing information for computer integrated manufacturing\",\n          \"Issue Information \\u2010 Members\"\n        ],\n        \"semantic_type\": \"\",\n        \"description\": \"\"\n      }\n    },\n    {\n      \"column\": \"Score\",\n      \"properties\": {\n        \"dtype\": \"number\",\n        \"std\": 1.2088986895274891,\n        \"min\": 1.1410042,\n        \"max\": 17.170717,\n        \"num_unique_values\": 55,\n        \"samples\": [\n          11.381878,\n          10.683413,\n          4.67841\n        ],\n        \"semantic_type\": \"\",\n        \"description\": \"\"\n      }\n    }\n  ]\n}"
            }
          },
          "metadata": {},
          "execution_count": 14
        }
      ],
      "source": [
        "doi_data.head(0)"
      ]
    },
    {
      "cell_type": "markdown",
      "metadata": {
        "id": "f6mOSxFjozOs"
      },
      "source": [
        "### Q2\n",
        "What are the different **Publishers** found in this dataset?"
      ]
    },
    {
      "cell_type": "code",
      "execution_count": null,
      "metadata": {
        "id": "q3Q9QnliozOs"
      },
      "outputs": [],
      "source": []
    },
    {
      "cell_type": "markdown",
      "metadata": {
        "id": "1YMsD1pNozOs"
      },
      "source": [
        "### Q3\n",
        "\n",
        "What is the average **Score** in this dataset?"
      ]
    },
    {
      "cell_type": "code",
      "execution_count": null,
      "metadata": {
        "id": "_tUoC3-oozOs"
      },
      "outputs": [],
      "source": []
    },
    {
      "cell_type": "markdown",
      "metadata": {
        "id": "aWskP6UtozOs"
      },
      "source": [
        "### Q4\n",
        "What is the average **Score** in the dataset if we only look at scores above 0? (Don't forget to add `numeric_only=True` to your code)"
      ]
    },
    {
      "cell_type": "code",
      "execution_count": null,
      "metadata": {
        "id": "-2CvAt_2ozOs"
      },
      "outputs": [],
      "source": []
    },
    {
      "cell_type": "markdown",
      "metadata": {
        "id": "C7bbpo9HozOt"
      },
      "source": [
        "### Q5\n",
        "\n",
        "What is the maximum number of **References** for an item in this dataset?"
      ]
    },
    {
      "cell_type": "code",
      "execution_count": null,
      "metadata": {
        "id": "FiKGhTFMozOt"
      },
      "outputs": [],
      "source": []
    },
    {
      "cell_type": "markdown",
      "metadata": {
        "id": "cgJIB42OozOt"
      },
      "source": [
        "### Q6\n",
        "\n",
        "What is the average number of **References** if we only look at items that have more than 0 references? (Don't forget to add `numeric_only=True` to your code)"
      ]
    },
    {
      "cell_type": "code",
      "execution_count": null,
      "metadata": {
        "id": "yJpUukuSozOt"
      },
      "outputs": [],
      "source": []
    },
    {
      "cell_type": "markdown",
      "metadata": {
        "id": "rRVPzYKBozOt"
      },
      "source": [
        "# A tad more Pandas\n",
        "\n",
        "Pandas has a couple of other interesting functions we can make use of, let's explore those quickly.\n",
        "\n",
        "**unique()** - tells us what are the unique entries in a particular column of a dataframe.\n",
        "The following cell demonstrates this.\n"
      ]
    },
    {
      "cell_type": "code",
      "execution_count": null,
      "metadata": {
        "id": "8amYmi_qozOt"
      },
      "outputs": [],
      "source": [
        "doi_data[\"Type\"].unique()"
      ]
    },
    {
      "cell_type": "markdown",
      "metadata": {
        "id": "zzkG6XeYozOt"
      },
      "source": [
        "**nunique()** - tells us the number of unique entries in a particular column of a dataframe.\n",
        "The following cell demonstrates this."
      ]
    },
    {
      "cell_type": "code",
      "execution_count": null,
      "metadata": {
        "id": "os5hpOH1ozOt"
      },
      "outputs": [],
      "source": [
        "doi_data[\"Type\"].nunique()"
      ]
    },
    {
      "cell_type": "markdown",
      "metadata": {
        "id": "BRtUaC57ozOt"
      },
      "source": [
        "# Why?\n",
        "\n",
        "Why are we learning these extra functions now? As mentioned, there are multiple ways to accomplish the same thing in programming, it is good to get a bit familiar with these alternate ways."
      ]
    },
    {
      "cell_type": "markdown",
      "metadata": {
        "id": "dzwz16siozOt"
      },
      "source": [
        "### Q7\n",
        "\n",
        "What are the different **Publishers** are in this dataset, using **unique()**?"
      ]
    },
    {
      "cell_type": "code",
      "execution_count": null,
      "metadata": {
        "id": "trmjLm5KozOt"
      },
      "outputs": [],
      "source": []
    },
    {
      "cell_type": "markdown",
      "metadata": {
        "id": "d8ajPDi7ozOt"
      },
      "source": [
        "### Q8\n",
        "\n",
        "What is total count of **Publishers** in this dataset, using **nunique()**?"
      ]
    },
    {
      "cell_type": "code",
      "execution_count": null,
      "metadata": {
        "id": "Bd1srVldozOt"
      },
      "outputs": [],
      "source": []
    },
    {
      "cell_type": "markdown",
      "metadata": {
        "id": "rqI1U9wuozOt"
      },
      "source": [
        "### Q9\n",
        "\n",
        "Try reloading the cell that has the `sample(5)` code above a few time to get more glimpses of the data.\n",
        "\n",
        "\n",
        "In the cell below write a line or two of code that does some sort of analysis with the data.\n",
        "\n",
        "\n",
        "Add details about what your code does to the comment."
      ]
    },
    {
      "cell_type": "code",
      "execution_count": null,
      "metadata": {
        "id": "IQsZLaeTozOt"
      },
      "outputs": [],
      "source": [
        "\n",
        "# My following code does...\n",
        "#\n",
        "#\n",
        "\n",
        "doi_data"
      ]
    },
    {
      "cell_type": "markdown",
      "metadata": {
        "id": "susWpmqgozOt"
      },
      "source": [
        "### Q10\n",
        "\n",
        "Run the code below to create a correlation matrix visualization just like we saw in the _Workalong_ notebook."
      ]
    },
    {
      "cell_type": "code",
      "execution_count": null,
      "metadata": {
        "id": "TgA47Ug-ozOt"
      },
      "outputs": [],
      "source": [
        "#Lot going on here... Just run this cell and look at the final product to answer the next question\n",
        "corr = doi_data.corr(numeric_only=True)\n",
        "corr.style.background_gradient(cmap='coolwarm')\n",
        "mask = np.zeros_like(corr, dtype=bool)\n",
        "mask[np.triu_indices_from(mask)] = True\n",
        "corr[mask] = np.nan\n",
        "(corr\n",
        " .style\n",
        " .background_gradient(cmap='coolwarm', axis=None, vmin=-1, vmax=1)\n",
        " .highlight_null(color='#f1f1f1')  # Color NaNs grey\n",
        " )"
      ]
    },
    {
      "cell_type": "markdown",
      "metadata": {
        "id": "yryDy5w4ozOt"
      },
      "source": [
        "Please answer following:\n",
        "\n",
        "From this correlation matrix I can describe the relationship between `Reference-count` and `Score` as follows.\n",
        "\n",
        "(Leave only the correct answer below, by deleting the wrong statement)\n",
        "\n",
        "\n",
        "\n",
        "- `Score` is positively correlated to `Reference-count`\n",
        "- `Score` is negatively correlated to `Reference-count`"
      ]
    },
    {
      "cell_type": "markdown",
      "metadata": {
        "id": "9lArRrNxozOt"
      },
      "source": [
        "## Congrats!\n",
        "\n",
        "You have now completed week 2 of class. Pandas is such an important part of data analysis with Python that we are going to continue building our knowledge of it in next week's class.\n",
        "\n",
        "Be sure to Print as PDF, upload it to the class page\n",
        "\n",
        "Also click the **Share** button above and enter `libraryjuicepresspython@gmail.com` so I can get a shared copy of your work.\n",
        "\n",
        "Remember also to make your forum post."
      ]
    }
  ],
  "metadata": {
    "kernelspec": {
      "display_name": "Python 3 (ipykernel)",
      "language": "python",
      "name": "python3"
    },
    "language_info": {
      "codemirror_mode": {
        "name": "ipython",
        "version": 3
      },
      "file_extension": ".py",
      "mimetype": "text/x-python",
      "name": "python",
      "nbconvert_exporter": "python",
      "pygments_lexer": "ipython3",
      "version": "3.9.13"
    },
    "colab": {
      "provenance": [],
      "include_colab_link": true
    }
  },
  "nbformat": 4,
  "nbformat_minor": 0
}